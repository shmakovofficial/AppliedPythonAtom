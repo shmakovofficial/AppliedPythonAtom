{
 "cells": [
  {
   "cell_type": "code",
   "execution_count": 1,
   "metadata": {},
   "outputs": [],
   "source": [
    "import random\n",
    "import time\n",
    "import threading"
   ]
  },
  {
   "cell_type": "code",
   "execution_count": 2,
   "metadata": {},
   "outputs": [
    {
     "name": "stdout",
     "output_type": "stream",
     "text": [
      "I am alife 0\n",
      "I am alife 1\n",
      "I am alife 2\n",
      "I am alife 3\n",
      "I am alife 4\n"
     ]
    }
   ],
   "source": [
    "def sleep(inter_num, interval):\n",
    "    for i in range(inter_num):\n",
    "        print(\"I am alife {}\".format(i))\n",
    "        time.sleep(interval)\n",
    "t = threading.Thread(target=sleep, args=(5, 1))\n",
    "t.start()"
   ]
  },
  {
   "cell_type": "code",
   "execution_count": 3,
   "metadata": {},
   "outputs": [
    {
     "name": "stdout",
     "output_type": "stream",
     "text": [
      "I am alife 0I am boss 0\n",
      "\n",
      "I am boss 1\n",
      "I am alife 1\n",
      "I am boss 2\n",
      "I am alife 2\n",
      "I am boss 3\n",
      "I am alife 3\n",
      "I am boss 4\n",
      "I am alife 4\n"
     ]
    }
   ],
   "source": [
    "def sleep(inter_num, interval):\n",
    "    for i in range(inter_num):\n",
    "        print(\"I am alife {}\".format(i))\n",
    "        time.sleep(interval)\n",
    "\n",
    "inter_num = 5\n",
    "interval = 1\n",
    "\n",
    "t = threading.Thread(target=sleep, args=(inter_num, interval))\n",
    "t.start()\n",
    "\n",
    "for i in range(inter_num):\n",
    "    print(\"I am boss {}\".format(i))\n",
    "    time.sleep(interval)"
   ]
  },
  {
   "cell_type": "code",
   "execution_count": 4,
   "metadata": {},
   "outputs": [
    {
     "name": "stdout",
     "output_type": "stream",
     "text": [
      "I am alife 0 my name Amir\n",
      "I am boss 0\n",
      "I am alife 1 my name AmirI am boss 1\n",
      "\n",
      "I am boss 2\n",
      "I am alife 2 my name Amir\n",
      "I am boss 3\n",
      "I am alife 3 my name Amir\n",
      "I am boss 4\n",
      "I am alife 4 my name Amir\n"
     ]
    }
   ],
   "source": [
    "class Sleeper(threading.Thread):\n",
    "    def __init__(self, name, inter_num, interval):\n",
    "        super().__init__()\n",
    "        self.name = name\n",
    "        self.iter_num = inter_num\n",
    "        self.interval = interval\n",
    "    \n",
    "    def run(self):\n",
    "        for i in range(self.iter_num):\n",
    "            print(\"I am alife {} my name {}\".format(i, self.name))\n",
    "            time.sleep(self.interval)\n",
    "\n",
    "inter_num = 5\n",
    "interval = 1\n",
    "            \n",
    "t = Sleeper(\"Amir\", inter_num, interval)\n",
    "t.start()\n",
    "\n",
    "for i in range(inter_num):\n",
    "    print(\"I am boss {}\".format(i))\n",
    "    time.sleep(interval)"
   ]
  },
  {
   "cell_type": "code",
   "execution_count": 5,
   "metadata": {},
   "outputs": [
    {
     "name": "stdout",
     "output_type": "stream",
     "text": [
      "I am alife 0 my name Amir\n",
      "I am alife 0 my name Zarina\n",
      "I am alife 0 my name MishaI am alife 0 my name Ilya\n",
      "\n",
      "I am alife 0 my name Igor\n",
      "I am alife 1 my name Amir\n",
      "I am alife 1 my name Zarina\n",
      "I am alife 1 my name IlyaI am alife 1 my name Misha\n",
      "\n",
      "I am alife 1 my name Igor\n",
      "I am alife 2 my name Amir\n",
      "I am alife 2 my name Zarina\n",
      "I am alife 2 my name IlyaI am alife 2 my name Misha\n",
      "\n",
      "I am alife 2 my name Igor\n",
      "I am alife 3 my name Amir\n",
      "I am alife 3 my name Zarina\n",
      "I am alife 3 my name IlyaI am alife 3 my name Misha\n",
      "\n",
      "I am alife 3 my name Igor\n",
      "I am alife 4 my name Amir\n",
      "I am alife 4 my name Zarina\n",
      "I am alife 4 my name Ilya\n",
      "I am alife 4 my name Misha\n",
      "I am alife 4 my name Igor\n"
     ]
    }
   ],
   "source": [
    "#TODO Создадим 5 потоков по числу преподов Amir, Zarina, Misha, Ilya, Igor\n",
    "AmirT = Sleeper(\"Amir\", inter_num, interval)\n",
    "ZarinaT = Sleeper(\"Zarina\", inter_num, interval)\n",
    "MishaT = Sleeper(\"Misha\", inter_num, interval)\n",
    "IlyaT = Sleeper(\"Ilya\", inter_num, interval)\n",
    "IgorT = Sleeper(\"Igor\", inter_num, interval)\n",
    "AmirT.start()\n",
    "ZarinaT.start()\n",
    "MishaT.start()\n",
    "IlyaT.start()\n",
    "IgorT.start()"
   ]
  },
  {
   "cell_type": "code",
   "execution_count": 6,
   "metadata": {},
   "outputs": [
    {
     "name": "stdout",
     "output_type": "stream",
     "text": [
      "I am alife 0 my name Amir\n",
      "I am alife 1 my name Amir\n",
      "I am alife 2 my name Amir\n",
      "I am alife 3 my name Amir\n",
      "I am alife 4 my name Amir\n",
      "I am boss 0\n",
      "I am boss 1\n",
      "I am boss 2\n",
      "I am boss 3\n",
      "I am boss 4\n"
     ]
    }
   ],
   "source": [
    "#join\n",
    "class Sleeper(threading.Thread):\n",
    "    def __init__(self, name, inter_num, interval):\n",
    "        super().__init__()\n",
    "        self.name = name\n",
    "        self.iter_num = inter_num\n",
    "        self.interval = interval\n",
    "    \n",
    "    def run(self):\n",
    "        for i in range(self.iter_num):\n",
    "            print(\"I am alife {} my name {}\".format(i, self.name))\n",
    "            time.sleep(self.interval)\n",
    "\n",
    "inter_num = 5\n",
    "interval = 1\n",
    "            \n",
    "t = Sleeper(\"Amir\", inter_num, interval)\n",
    "t.start()\n",
    "t.join()\n",
    "\n",
    "for i in range(inter_num):\n",
    "    print(\"I am boss {}\".format(i))\n",
    "    time.sleep(interval)"
   ]
  },
  {
   "cell_type": "code",
   "execution_count": 7,
   "metadata": {},
   "outputs": [
    {
     "name": "stdout",
     "output_type": "stream",
     "text": [
      "I am alife 0 my name Amir\n",
      "I am alife 1 my name Amir\n",
      "I am alife 2 my name Amir\n",
      "I am alife 3 my name Amir\n",
      "I am alife 4 my name Amir\n",
      "I am alife 0 my name Zarina\n",
      "I am alife 1 my name Zarina\n",
      "I am alife 2 my name Zarina\n",
      "I am alife 3 my name Zarina\n",
      "I am alife 4 my name Zarina\n",
      "I am alife 0 my name Misha\n",
      "I am alife 1 my name Misha\n",
      "I am alife 2 my name Misha\n",
      "I am alife 3 my name Misha\n",
      "I am alife 4 my name Misha\n",
      "I am alife 0 my name Ilya\n",
      "I am alife 1 my name Ilya\n",
      "I am alife 2 my name Ilya\n",
      "I am alife 3 my name Ilya\n",
      "I am alife 4 my name Ilya\n",
      "I am alife 0 my name Igor\n",
      "I am alife 1 my name Igor\n",
      "I am alife 2 my name Igor\n",
      "I am alife 3 my name Igor\n",
      "I am alife 4 my name Igor\n"
     ]
    }
   ],
   "source": [
    "#TODO Заставим преподов из задачки выше говорить последовательно\n",
    "prep=['Amir', 'Zarina', 'Misha', 'Ilya', 'Igor']\n",
    "for i in prep:\n",
    "    t = Sleeper(i, inter_num, interval)\n",
    "    t.start()\n",
    "    t.join()"
   ]
  },
  {
   "cell_type": "code",
   "execution_count": 8,
   "metadata": {},
   "outputs": [],
   "source": [
    "class DollarsAccount:\n",
    "    def __init__(self, exchange_rate):\n",
    "        self._exchange_rate = exchange_rate\n",
    "        self._account = 0\n",
    "        \n",
    "    @property\n",
    "    def account(self):\n",
    "        return self._account * self._exchange_rate\n",
    "    \n",
    "    @account.setter\n",
    "    def account(self, money):\n",
    "        self._account += money / self._exchange_rate\n",
    "        \n",
    "class Inflation(threading.Thread):\n",
    "    def __init__(self, name, account, amount, iter_num):\n",
    "        super().__init__()\n",
    "        self.name = name\n",
    "        self.account = account\n",
    "        self.amount = amount\n",
    "        self.iter_num = iter_num\n",
    "    \n",
    "    def run(self):\n",
    "        print(\"My name {} account id {}\".format(self.name, id(self.amount)))\n",
    "        for i in range(self.iter_num):\n",
    "            self.account.account = -self.amount\n",
    "            \n",
    "class DepositCap(threading.Thread):\n",
    "    def __init__(self, name, account, amount, iter_num):\n",
    "        super().__init__()\n",
    "        self.name = name\n",
    "        self.account = account\n",
    "        self.amount = amount\n",
    "        self.iter_num = iter_num\n",
    "    \n",
    "    def run(self):\n",
    "        print(\"My name {} account id {}\".format(self.name, id(self.amount)))\n",
    "        for i in range(self.iter_num):\n",
    "            self.account.account = self.amount"
   ]
  },
  {
   "cell_type": "code",
   "execution_count": 15,
   "metadata": {},
   "outputs": [
    {
     "name": "stdout",
     "output_type": "stream",
     "text": [
      "My name inflation account id 140726883300304\n",
      "My name DepositCap account id 140726883300304\n",
      "-1.3877787807814457e-15\n"
     ]
    }
   ],
   "source": [
    "dac = DollarsAccount(50)\n",
    "inflation = Inflation(\"inflation\", dac, 5, 10)      \n",
    "deposit = DepositCap(\"DepositCap\", dac, 5, 10)\n",
    "\n",
    "inflation.start()\n",
    "deposit.start()\n",
    "inflation.join()\n",
    "deposit.join()\n",
    "print(dac.account)"
   ]
  },
  {
   "cell_type": "code",
   "execution_count": 22,
   "metadata": {},
   "outputs": [],
   "source": [
    "class Inflation(threading.Thread):\n",
    "    def __init__(self, name, account, amount, iter_num):\n",
    "        super().__init__()\n",
    "        self.name = name\n",
    "        self.account = account\n",
    "        self.amount = amount\n",
    "        self.iter_num = iter_num\n",
    "        self.lock = threading.Lock()\n",
    "    \n",
    "    def run(self):\n",
    "        print(\"My name {} account id {}\".format(self.name, id(self.amount)))\n",
    "        for i in range(self.iter_num):\n",
    "            with self.lock:\n",
    "                self.account.account = -self.amount\n",
    "            \n",
    "class DepositCap(threading.Thread):\n",
    "    def __init__(self, name, account, amount, iter_num):\n",
    "        super().__init__()\n",
    "        self.name = name\n",
    "        self.account = account\n",
    "        self.amount = amount\n",
    "        self.iter_num = iter_num\n",
    "        self.lock = threading.Lock()\n",
    "    \n",
    "    def run(self):\n",
    "        print(\"My name {} account id {}\".format(self.name, id(self.amount)))\n",
    "        for i in range(self.iter_num):\n",
    "            with self.lock:\n",
    "                self.account.account = self.amount"
   ]
  },
  {
   "cell_type": "code",
   "execution_count": 23,
   "metadata": {},
   "outputs": [
    {
     "name": "stdout",
     "output_type": "stream",
     "text": [
      "My name inflation account id 140726883300304\n",
      "My name DepositCap account id 140726883300304\n",
      "-67239.99999999363\n"
     ]
    }
   ],
   "source": [
    "dac = DollarsAccount(50)\n",
    "inflation = Inflation(\"inflation\", dac, 5, 100000)      \n",
    "deposit = DepositCap(\"DepositCap\", dac, 5, 100000)\n",
    "\n",
    "inflation.start()\n",
    "deposit.start()\n",
    "inflation.join()\n",
    "deposit.join()\n",
    "print(dac.account)\n",
    "\n",
    "#Почему не сработало?"
   ]
  },
  {
   "cell_type": "code",
   "execution_count": 25,
   "metadata": {},
   "outputs": [
    {
     "name": "stdout",
     "output_type": "stream",
     "text": [
      "My name inflation account id 140726883300304\n",
      "My name DepositCap account id 140726883300304\n",
      "-7.870093465811578e-12\n"
     ]
    }
   ],
   "source": [
    "class Inflation(threading.Thread):\n",
    "    def __init__(self, name, account, amount, iter_num, lock):\n",
    "        super().__init__()\n",
    "        self.name = name\n",
    "        self.account = account\n",
    "        self.amount = amount\n",
    "        self.iter_num = iter_num\n",
    "        self.lock = lock\n",
    "    \n",
    "    def run(self):\n",
    "        print(\"My name {} account id {}\".format(self.name, id(self.amount)))\n",
    "        for i in range(self.iter_num):\n",
    "            self.lock.acquire()\n",
    "            self.account.account = -self.amount\n",
    "            self.lock.release()\n",
    "            \n",
    "class DepositCap(threading.Thread):\n",
    "    def __init__(self, name, account, amount, iter_num, lock):\n",
    "        super().__init__()\n",
    "        self.name = name\n",
    "        self.account = account\n",
    "        self.amount = amount\n",
    "        self.iter_num = iter_num\n",
    "        self.lock = lock\n",
    "    \n",
    "    def run(self):\n",
    "        print(\"My name {} account id {}\".format(self.name, id(self.amount)))\n",
    "        for i in range(self.iter_num):\n",
    "            self.lock.acquire()\n",
    "            self.account.account = self.amount\n",
    "            self.lock.release()\n",
    "            \n",
    "dac = DollarsAccount(50)\n",
    "lock = threading.Lock()\n",
    "inflation = Inflation(\"inflation\", dac, 5, 1000000, lock)      \n",
    "deposit = DepositCap(\"DepositCap\", dac, 5, 1000000, lock)\n",
    "\n",
    "inflation.start()\n",
    "deposit.start()\n",
    "inflation.join()\n",
    "deposit.join()\n",
    "print(dac.account)"
   ]
  },
  {
   "cell_type": "code",
   "execution_count": null,
   "metadata": {},
   "outputs": [
    {
     "name": "stdout",
     "output_type": "stream",
     "text": [
      "Thread1 acquiring lock aThread2 acquiring lock b\n",
      "\n"
     ]
    }
   ],
   "source": [
    "import threading, time\n",
    "\n",
    "a = 5\n",
    "alock = threading.Lock()\n",
    "b = 5\n",
    "block = threading.Lock()\n",
    "\n",
    "def thread1calc():\n",
    "   \n",
    "    alock.acquire()\n",
    "    print(\"Thread1 acquiring lock a\")\n",
    "    time.sleep(5)\n",
    "\n",
    "    \n",
    "    block.acquire()\n",
    "    print(\"Thread1 acquiring lock b\")\n",
    "    time.sleep(5)\n",
    "    a += 5\n",
    "    b += 5\n",
    "\n",
    "    \n",
    "    block.release()\n",
    "    alock.release()\n",
    "    print(\"Thread1 releasing both locks\")\n",
    "\n",
    "def thread2calc():\n",
    "   \n",
    "    block.acquire()\n",
    "    print (\"Thread2 acquiring lock b\")\n",
    "    time.sleep(5)\n",
    "\n",
    "    \n",
    "    alock.acquire()\n",
    "    print(\"Thread2 acquiring lock a\")\n",
    "    time.sleep(5)\n",
    "    a += 10\n",
    "    b += 10\n",
    "\n",
    "    \n",
    "    block.release()\n",
    "    alock.release()\n",
    "    print(\"Thread2 releasing both locks\")\n",
    "\n",
    "t1 = threading.Thread(target = thread1calc)\n",
    "t1.start()\n",
    "\n",
    "t2 = threading.Thread(target = thread2calc)\n",
    "t2.start()\n",
    "\n",
    "t1.join()\n",
    "t2.join()"
   ]
  },
  {
   "cell_type": "code",
   "execution_count": 3,
   "metadata": {},
   "outputs": [],
   "source": [
    "def incrementer(max_val):\n",
    "    c = 0\n",
    "    for i in range(max_val):\n",
    "        c += 1"
   ]
  },
  {
   "cell_type": "code",
   "execution_count": 4,
   "metadata": {},
   "outputs": [
    {
     "name": "stdout",
     "output_type": "stream",
     "text": [
      "Wall time: 0 ns\n"
     ]
    }
   ],
   "source": [
    "%%time\n",
    "        \n",
    "incrementer(1000)"
   ]
  },
  {
   "cell_type": "code",
   "execution_count": 5,
   "metadata": {},
   "outputs": [
    {
     "name": "stdout",
     "output_type": "stream",
     "text": [
      "Wall time: 1.99 ms\n"
     ]
    }
   ],
   "source": [
    "%%time\n",
    "\n",
    "t1 = threading.Thread(target = incrementer, args=(500, ))\n",
    "t2 = threading.Thread(target = incrementer, args=(500, ))\n",
    "t1.start()\n",
    "t2.start()\n",
    "t1.join()\n",
    "t2.join()"
   ]
  },
  {
   "cell_type": "code",
   "execution_count": 6,
   "metadata": {},
   "outputs": [],
   "source": [
    "\n",
    "t1 = threading.Thread(target = incrementer, args=(500, ))\n",
    "t2 = threading.Thread(target = incrementer, args=(500, ))"
   ]
  },
  {
   "cell_type": "code",
   "execution_count": 7,
   "metadata": {},
   "outputs": [
    {
     "name": "stdout",
     "output_type": "stream",
     "text": [
      "Wall time: 2.99 ms\n"
     ]
    }
   ],
   "source": [
    "%%time\n",
    "\n",
    "t1.start()\n",
    "t2.start()\n",
    "t1.join()\n",
    "t2.join()"
   ]
  },
  {
   "cell_type": "code",
   "execution_count": null,
   "metadata": {
    "collapsed": true
   },
   "outputs": [],
   "source": []
  }
 ],
 "metadata": {
  "anaconda-cloud": {},
  "kernelspec": {
   "display_name": "Python 3",
   "language": "python",
   "name": "python3"
  },
  "language_info": {
   "codemirror_mode": {
    "name": "ipython",
    "version": 3
   },
   "file_extension": ".py",
   "mimetype": "text/x-python",
   "name": "python",
   "nbconvert_exporter": "python",
   "pygments_lexer": "ipython3",
   "version": "3.7.1"
  }
 },
 "nbformat": 4,
 "nbformat_minor": 1
}
